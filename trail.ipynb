{
 "cells": [
  {
   "cell_type": "code",
   "execution_count": 24,
   "metadata": {},
   "outputs": [
    {
     "data": {
      "application/javascript": "var q1 = \"Q1. Write a program to find all pairs of an integer array whose sum is equal to a given number?\"\nlet arr1 = [1, 2, 4, 5, 2, 6, 8, 8, 10, 10, 10, 2];\ninputNum = 7;\nnumPair = [];\n\nfunction findSum(elem1, elem2,){\n    for(let x = 0; x < elem1.length; x++){\n        for(let z = 0; z < elem1.length; z++){\n            if(elem1[x] + elem1[z] == 7){\n                subPair = [elem1[x], elem1[z]]\n                elem2.push(subPair = [elem1[x], elem1[z]])\n            }\n        }\n    }\n}\n\nfindSum(arr1, numPair)\n\nconsole.log(numPair);\nelement.text(numPair)\n",
      "text/plain": [
       "<IPython.core.display.Javascript object>"
      ]
     },
     "metadata": {},
     "output_type": "display_data"
    }
   ],
   "source": [
    "%%javascript\n",
    "var q1 = \"Q1. Write a program to find all pairs of an integer array whose sum is equal to a given number?\"\n",
    "const arr1 = [1, 2, 4, 5, 2, 6, 8, 8, 10, 10, 10, 2];\n",
    "inputNum = 7;\n",
    "numPair = [];\n",
    "\n",
    "function findSum(elem1, elem2,){\n",
    "    for(let x = 0; x < elem1.length; x++){\n",
    "        for(let z = 0; z < elem1.length; z++){\n",
    "            if(elem1[x] + elem1[z] == 7){\n",
    "                subPair = [elem1[x], elem1[z]]\n",
    "                elem2.push(subPair = [elem1[x], elem1[z]])\n",
    "            }\n",
    "        }\n",
    "    }\n",
    "}\n",
    "\n",
    "findSum(arr1, numPair)\n",
    "\n",
    "console.log(numPair);\n",
    "element.text(numPair)"
   ]
  },
  {
   "cell_type": "code",
   "execution_count": 67,
   "metadata": {},
   "outputs": [
    {
     "data": {
      "application/javascript": "var q2 = \"Q2. Write a program to reverse an array in place? In place means you cannot create a new array. You have to update the original array.\"\nconst arR = [1,8,9,5,2,6,4]\nconst nameR = [\"Kaneki\", \"Arima\", \"Tobi\", \"Kise\", \"Bakugo\"]\n\nconsole.log(arR);\nconsole.log(nameR);\n\nfunction ReverseArr(elem){\n    for(let x = elem.length-1; x >=0; x--){\n        elem.push(elem[x]); \n    }\n    for(let x = 0; x < elem.length; x++){\n        elem.shift(elem.length/2)\n    }    \n}\n\nReverseArr(arR);\nReverseArr(nameR)\n\nconsole.log(arR);\nconsole.log(nameR);\nelement.text(nameR)\n",
      "text/plain": [
       "<IPython.core.display.Javascript object>"
      ]
     },
     "metadata": {},
     "output_type": "display_data"
    }
   ],
   "source": [
    "%%javascript\n",
    "var q2 = \"Q2. Write a program to reverse an array in place? In place means you cannot create a new array. You have to update the original array.\"\n",
    "const arR = [1,8,9,5,2,6,4]\n",
    "const nameR = [\"Kaneki\", \"Arima\", \"Tobi\", \"Kise\", \"Bakugo\"]\n",
    "\n",
    "console.log(arR);\n",
    "console.log(nameR);\n",
    "\n",
    "function ReverseArr(elem){\n",
    "    for(let x = elem.length-1; x >=0; x--){\n",
    "        elem.push(elem[x]); \n",
    "    }\n",
    "    for(let x = 0; x < elem.length; x++){\n",
    "        elem.shift(elem.length/2)\n",
    "    }    \n",
    "}\n",
    "\n",
    "ReverseArr(arR);\n",
    "ReverseArr(nameR)\n",
    "\n",
    "console.log(arR);\n",
    "console.log(nameR);\n",
    "element.text(nameR)"
   ]
  },
  {
   "cell_type": "code",
   "execution_count": 69,
   "metadata": {},
   "outputs": [
    {
     "data": {
      "application/javascript": "var q3 = \"Q3. Write a program to check if two strings are a rotation of each other?\"\nconst str1 = \"desserts\"\nconst str2 = \"stressed\"\n\nconst str11 = 'this is a string'\nconst str21 = 'gnirts a si siht'\n\nconst str12 = 'not rotation string'\nconst str22 = 'string rotation not'\n\nconst str13 = 'strings'\nconst str23 = 'gnirts'\n\nlet ans3;\n\n// console.log(str13.length, str23.length);\n\nfunction stringRotation(elem1, elem2, elem3){\n    if(elem1.length == elem2.length){\n        for(let x = 0; x < elem1.length; x++){\n            // console.log(elem1[x]);\n            for(let z = elem2.length - 1; z >= 0; z--){\n                // console.log(elem2[z]);\n                if(elem1[x] == elem2[z]){\n                    elem3 = \"Strings are rotation of each other\";\n                }\n                else{\n                    elem3 = \"Strings are not rotation of each other!\";\n                }\n            }\n        }\n    }\n    else {\n        elem3 = \"Please enter valid strings!\"\n    }\n    \n    return elem3;\n}\n\nlet answer3 = stringRotation(str1, str2, ans3)\nlet answer30 = stringRotation(str11, str21, ans3)\nlet answer31 = stringRotation(str12, str22, ans3)\nlet answer32 = stringRotation(str13, str23, ans3)\n\n\nconsole.log(answer3);\nconsole.log(answer30);\nconsole.log(answer31);\nconsole.log(answer32);\nelement.text(answer3)\n",
      "text/plain": [
       "<IPython.core.display.Javascript object>"
      ]
     },
     "metadata": {},
     "output_type": "display_data"
    }
   ],
   "source": [
    "%%js\n",
    "var q3 = \"Q3. Write a program to check if two strings are a rotation of each other?\"\n",
    "const str1 = \"desserts\"\n",
    "const str2 = \"stressed\"\n",
    "\n",
    "const str11 = 'this is a string'\n",
    "const str21 = 'gnirts a si siht'\n",
    "\n",
    "const str12 = 'not rotation string'\n",
    "const str22 = 'string rotation not'\n",
    "\n",
    "const str13 = 'strings'\n",
    "const str23 = 'gnirts'\n",
    "\n",
    "let ans3;\n",
    "\n",
    "// console.log(str13.length, str23.length);\n",
    "\n",
    "function stringRotation(elem1, elem2, elem3){\n",
    "    if(elem1.length == elem2.length){\n",
    "        for(let x = 0; x < elem1.length; x++){\n",
    "            // console.log(elem1[x]);\n",
    "            for(let z = elem2.length - 1; z >= 0; z--){\n",
    "                // console.log(elem2[z]);\n",
    "                if(elem1[x] == elem2[z]){\n",
    "                    elem3 = \"Strings are rotation of each other\";\n",
    "                }\n",
    "                else{\n",
    "                    elem3 = \"Strings are not rotation of each other!\";\n",
    "                }\n",
    "            }\n",
    "        }\n",
    "    }\n",
    "    else {\n",
    "        elem3 = \"Please enter valid strings!\"\n",
    "    }\n",
    "    \n",
    "    return elem3;\n",
    "}\n",
    "\n",
    "let answer3 = stringRotation(str1, str2, ans3)\n",
    "let answer30 = stringRotation(str11, str21, ans3)\n",
    "let answer31 = stringRotation(str12, str22, ans3)\n",
    "let answer32 = stringRotation(str13, str23, ans3)\n",
    "\n",
    "console.log(answer3);\n",
    "console.log(answer30);\n",
    "console.log(answer31);\n",
    "console.log(answer32);\n",
    "element.text(answer3)"
   ]
  },
  {
   "cell_type": "code",
   "execution_count": 73,
   "metadata": {},
   "outputs": [
    {
     "data": {
      "application/javascript": "var q4 = \"Q4. Write a program to print the first non-repeated character from a string?\"\nconst str4 = 'The strings'\nconst str40 = 'Elements'\n\nfunction firstNonRepeatedCharacter(string) {\n    let stringU = string.toUpperCase()\n    for (var x = 0; x < stringU.length; x++) {\n      var c = stringU.charAt(x);\n      if (stringU.indexOf(c) == x && stringU.indexOf(c, x + 1) == -1) {\n        return c;\n      }\n    }\n    return null;\n}\n\nlet ans4 = `First non repeating character is ${firstNonRepeatedCharacter(str4)}`\nlet ans40 = `First non repeating character is ${firstNonRepeatedCharacter(str40)}`\n\nconsole.log(ans4);\nconsole.log(ans40);\nelement.text(ans4)\n",
      "text/plain": [
       "<IPython.core.display.Javascript object>"
      ]
     },
     "metadata": {},
     "output_type": "display_data"
    }
   ],
   "source": [
    "%%javascript\n",
    "var q4 = \"Q4. Write a program to print the first non-repeated character from a string?\"\n",
    "const str4 = 'The strings'\n",
    "const str40 = 'Elements'\n",
    "\n",
    "function firstNonRepeatedCharacter(string) {\n",
    "    let stringU = string.toUpperCase()\n",
    "    for (var x = 0; x < stringU.length; x++) {\n",
    "      var c = stringU.charAt(x);\n",
    "      if (stringU.indexOf(c) == x && stringU.indexOf(c, x + 1) == -1) {\n",
    "        return c;\n",
    "      }\n",
    "    }\n",
    "    return null;\n",
    "}\n",
    "\n",
    "let ans4 = `First non repeating character is ${firstNonRepeatedCharacter(str4)}`\n",
    "let ans40 = `First non repeating character is ${firstNonRepeatedCharacter(str40)}`\n",
    "\n",
    "console.log(ans4);\n",
    "console.log(ans40);\n",
    "element.text(ans4)"
   ]
  },
  {
   "cell_type": "code",
   "execution_count": 30,
   "metadata": {},
   "outputs": [
    {
     "data": {
      "application/javascript": "var q5 = \"Q5. Read about the Tower of Hanoi algorithm. Write a program to implement it.\"\n// img address for reference = https://media.geeksforgeeks.org/wp-content/uploads/tower-of-hanoi.png\n\n// code source = https://www.geeksforgeeks.org/c-program-for-tower-of-hanoi/\n\nfunction towerOfHanoi(n, from_rod,  to_rod,  aux_rod){\n    \n    if (n == 0){\n        return;\n    }\n    towerOfHanoi(n - 1, from_rod, aux_rod, to_rod);\n    //  document.write(\"Move disk \" + n + \" from rod \" + from_rod +\n    //  \" to rod \" + to_rod+\"<br/>\");\n    console.log(\"Move disk \" + n + \" from rod \" + from_rod +\" to rod \" + to_rod);\n    towerOfHanoi(n - 1, aux_rod, to_rod, from_rod);\n}\n \n// Driver code\nvar N = 3;\n     \n// A, B and C are names of rods\ntowerOfHanoi(N, 'A', 'C', 'B');\nelement.text(q5)\n",
      "text/plain": [
       "<IPython.core.display.Javascript object>"
      ]
     },
     "metadata": {},
     "output_type": "display_data"
    }
   ],
   "source": [
    "%%js\n",
    "var q5 = \"Q5. Read about the Tower of Hanoi algorithm. Write a program to implement it.\"\n",
    "// img address for reference = https://media.geeksforgeeks.org/wp-content/uploads/tower-of-hanoi.png\n",
    "\n",
    "// code source = https://www.geeksforgeeks.org/c-program-for-tower-of-hanoi/\n",
    "\n",
    "function towerOfHanoi(n, from_rod,  to_rod,  aux_rod){\n",
    "    \n",
    "    if (n == 0){\n",
    "        return;\n",
    "    }\n",
    "    towerOfHanoi(n - 1, from_rod, aux_rod, to_rod);\n",
    "    //  document.write(\"Move disk \" + n + \" from rod \" + from_rod +\n",
    "    //  \" to rod \" + to_rod+\"<br/>\");\n",
    "    console.log(\"Move disk \" + n + \" from rod \" + from_rod +\" to rod \" + to_rod);\n",
    "    towerOfHanoi(n - 1, aux_rod, to_rod, from_rod);\n",
    "}\n",
    " \n",
    "// Driver code\n",
    "var N = 3;\n",
    "     \n",
    "// A, B and C are names of rods\n",
    "towerOfHanoi(N, 'A', 'C', 'B');\n",
    "element.text(q5)"
   ]
  },
  {
   "cell_type": "code",
   "execution_count": 11,
   "metadata": {},
   "outputs": [
    {
     "data": {
      "application/javascript": "var q6 = \"Q6. Read about infix, prefix, and postfix expressions. Write a program to convert postfix to prefix expression.\"\nlet postExp = \"ABC/-AK/L-*\";\n\nlet preExp = new Array();\n\nfunction postToPre(postExp){\n    let l = postExp.length;\n\n    for(let x = 0; x < l; x++){\n\n        function isOpreator(x){\n            switch(x){\n                case '+':\n                case '-':\n                case '/':\n                case '*':\n                    return true;\n            }\n            return false;\n        }\n\n        if(isOpreator(postExp[x])){\n            let op1 = preExp[preExp.length - 1];\n            preExp.pop();\n            let op2 = preExp[preExp.length - 1];\n            preExp.pop();\n\n            let temp = postExp[x] + op1 + op2\n\n            preExp.push(temp);\n        }\n        else{\n            preExp.push(postExp[x] + '')\n        }\n    }\n\n    let ans = '';\n    while(preExp.length > 0)\n        ans += preExp.pop();\n        return ans;\n}\n\nlet ans6 = postToPre(postExp);\nlet finalAns6 = `${postExp} <- Postfix to Prefix -> ${ans6}`\n\nconsole.log(finalAns6);\nelement.text(finalAns6)\n",
      "text/plain": [
       "<IPython.core.display.Javascript object>"
      ]
     },
     "metadata": {},
     "output_type": "display_data"
    }
   ],
   "source": [
    "%%javascript\n",
    "var q6 = \"Q6. Read about infix, prefix, and postfix expressions. Write a program to convert postfix to prefix expression.\"\n",
    "let postExp = \"ABC/-AK/L-*\";\n",
    "\n",
    "let preExp = new Array();\n",
    "\n",
    "function postToPre(postExp){\n",
    "    let l = postExp.length;\n",
    "\n",
    "    for(let x = 0; x < l; x++){\n",
    "\n",
    "        function isOpreator(x){\n",
    "            switch(x){\n",
    "                case '+':\n",
    "                case '-':\n",
    "                case '/':\n",
    "                case '*':\n",
    "                    return true;\n",
    "            }\n",
    "            return false;\n",
    "        }\n",
    "\n",
    "        if(isOpreator(postExp[x])){\n",
    "            let op1 = preExp[preExp.length - 1];\n",
    "            preExp.pop();\n",
    "            let op2 = preExp[preExp.length - 1];\n",
    "            preExp.pop();\n",
    "\n",
    "            let temp = postExp[x] + op1 + op2\n",
    "\n",
    "            preExp.push(temp);\n",
    "        }\n",
    "        else{\n",
    "            preExp.push(postExp[x] + '')\n",
    "        }\n",
    "    }\n",
    "\n",
    "    let ans = '';\n",
    "    while(preExp.length > 0)\n",
    "        ans += preExp.pop();\n",
    "        return ans;\n",
    "}\n",
    "\n",
    "let ans6 = postToPre(postExp);\n",
    "let finalAns6 = `${postExp} <- Postfix to Prefix -> ${ans6}`\n",
    "\n",
    "console.log(finalAns6);\n",
    "element.text(finalAns6)"
   ]
  },
  {
   "cell_type": "code",
   "execution_count": 12,
   "metadata": {},
   "outputs": [
    {
     "data": {
      "application/javascript": "var q7 = \"Q7. Write a program to convert prefix expression to infix expression.\"\nlet pre7 = \"*-A/BC-/AKL\";\n\nlet infix7 = new Array();\n\nfunction preToInfix(){\n\n    let l = pre7.length;\n\n    for(let x = l - 1; x >= 0; x--){\n        let z = pre7[x];\n\n        function isOpreator7(x){\n            switch(x){\n                case '+':\n                case '-':\n                case '*':\n                case '/':\n                case '^':\n                case '%':\n                    return true;\n            }\n            return false;\n        }\n\n        if(isOpreator7(z)){\n            let op1 = infix7[infix7.length - 1]\n            infix7.pop()\n            let op2 = infix7[infix7.length - 1]\n            infix7.pop()\n\n            let temp = '(' + op1 + z + op2 + ')'\n            infix7.push(temp);\n        }\n        else{\n            infix7.push(z + '')\n        }\n    }\n    return infix7[infix7.length - 1]\n}\n\nlet ans7 = preToInfix(pre7)\nlet finalAns7 = `${pre7} <- Prefix to Infix -> ${ans7}`\n\nconsole.log(finalAns7);\nelement.text(finalAns7)\n",
      "text/plain": [
       "<IPython.core.display.Javascript object>"
      ]
     },
     "metadata": {},
     "output_type": "display_data"
    }
   ],
   "source": [
    "%%js\n",
    "var q7 = \"Q7. Write a program to convert prefix expression to infix expression.\"\n",
    "let pre7 = \"*-A/BC-/AKL\";\n",
    "\n",
    "let infix7 = new Array();\n",
    "\n",
    "function preToInfix(){\n",
    "\n",
    "    let l = pre7.length;\n",
    "\n",
    "    for(let x = l - 1; x >= 0; x--){\n",
    "        let z = pre7[x];\n",
    "\n",
    "        function isOpreator7(x){\n",
    "            switch(x){\n",
    "                case '+':\n",
    "                case '-':\n",
    "                case '*':\n",
    "                case '/':\n",
    "                case '^':\n",
    "                case '%':\n",
    "                    return true;\n",
    "            }\n",
    "            return false;\n",
    "        }\n",
    "\n",
    "        if(isOpreator7(z)){\n",
    "            let op1 = infix7[infix7.length - 1]\n",
    "            infix7.pop()\n",
    "            let op2 = infix7[infix7.length - 1]\n",
    "            infix7.pop()\n",
    "\n",
    "            let temp = '(' + op1 + z + op2 + ')'\n",
    "            infix7.push(temp);\n",
    "        }\n",
    "        else{\n",
    "            infix7.push(z + '')\n",
    "        }\n",
    "    }\n",
    "    return infix7[infix7.length - 1]\n",
    "}\n",
    "\n",
    "let ans7 = preToInfix(pre7)\n",
    "let finalAns7 = `${pre7} <- Prefix to Infix -> ${ans7}`\n",
    "\n",
    "console.log(finalAns7);\n",
    "element.text(finalAns7)"
   ]
  },
  {
   "cell_type": "code",
   "execution_count": 17,
   "metadata": {},
   "outputs": [
    {
     "data": {
      "application/javascript": "var q8 = \"Q8. Write a program to check if all the brackets are closed in a given code snippet.\"\nclass Stack{\n    constructor(){\n        this.items = []\n        this.size = 0;\n        this.push = function(val){\n            this.items.push(val)\n            this.size += 1\n        }\n        this.pop = function(){\n            if(this.size == 0){\n                return \"Stack is empty\"\n            }\n            this.size -= 1;\n            return this.items.pop()\n        }\n        this.peek = function(){\n            if(this.size == 0){\n                return \"Stack is empty\"\n            }\n            return this.items[this.size - 1]\n        }\n    }\n}\n\nlet exp8 = \"{{{{][}}}}\";\nlet exp80 = '([{}])';\nlet expStack = new Stack();\nfunction isBalanced(exp8){\n    for(let x = 0; x<exp8.length;x++){\n        let a = exp8[x]\n        if(a == '(' || a == '[' || a == '{'){\n            expStack.push(a)\n            continue\n        }\n        if(expStack.size == 0){\n            return false;\n        }\n        let bracket = expStack.pop()\n        switch(a){\n            case ')':\n                if(bracket == '[' || bracket == '{'){\n                    return false;\n                }\n                break;\n            case ']':\n                if(bracket == '{' || bracket == '('){\n                    return false;\n                }\n                break;\n            case '}':\n                if(bracket == '[' || bracket == '('){\n                    return false;\n                }\n                break;\n        }\n    }\n    return expStack.size == 0 ? true: false;\n}\n\nlet ans8;\nlet result = isBalanced(exp8)\n// let result = isBalanced(exp80)\nif(result == true){\n    ans8 = 'Balanced'\n}\nelse{\n    ans8 = 'Not Balanced'\n}\n\nconsole.log(ans8);\nelement.text(ans8)\n",
      "text/plain": [
       "<IPython.core.display.Javascript object>"
      ]
     },
     "metadata": {},
     "output_type": "display_data"
    }
   ],
   "source": [
    "%%javascript\n",
    "var q8 = \"Q8. Write a program to check if all the brackets are closed in a given code snippet.\"\n",
    "class Stack{\n",
    "    constructor(){\n",
    "        this.items = []\n",
    "        this.size = 0;\n",
    "        this.push = function(val){\n",
    "            this.items.push(val)\n",
    "            this.size += 1\n",
    "        }\n",
    "        this.pop = function(){\n",
    "            if(this.size == 0){\n",
    "                return \"Stack is empty\"\n",
    "            }\n",
    "            this.size -= 1;\n",
    "            return this.items.pop()\n",
    "        }\n",
    "        this.peek = function(){\n",
    "            if(this.size == 0){\n",
    "                return \"Stack is empty\"\n",
    "            }\n",
    "            return this.items[this.size - 1]\n",
    "        }\n",
    "    }\n",
    "}\n",
    "\n",
    "let exp8 = \"{{{{][}}}}\";\n",
    "let exp80 = '([{}])';\n",
    "let expStack = new Stack();\n",
    "function isBalanced(exp8){\n",
    "    for(let x = 0; x<exp8.length;x++){\n",
    "        let a = exp8[x]\n",
    "        if(a == '(' || a == '[' || a == '{'){\n",
    "            expStack.push(a)\n",
    "            continue\n",
    "        }\n",
    "        if(expStack.size == 0){\n",
    "            return false;\n",
    "        }\n",
    "        let bracket = expStack.pop()\n",
    "        switch(a){\n",
    "            case ')':\n",
    "                if(bracket == '[' || bracket == '{'){\n",
    "                    return false;\n",
    "                }\n",
    "                break;\n",
    "            case ']':\n",
    "                if(bracket == '{' || bracket == '('){\n",
    "                    return false;\n",
    "                }\n",
    "                break;\n",
    "            case '}':\n",
    "                if(bracket == '[' || bracket == '('){\n",
    "                    return false;\n",
    "                }\n",
    "                break;\n",
    "        }\n",
    "    }\n",
    "    return expStack.size == 0 ? true: false;\n",
    "}\n",
    "\n",
    "let ans8;\n",
    "let result = isBalanced(exp8)\n",
    "// let result = isBalanced(exp80)\n",
    "if(result == true){\n",
    "    ans8 = 'Balanced'\n",
    "}\n",
    "else{\n",
    "    ans8 = 'Not Balanced'\n",
    "}\n",
    "\n",
    "console.log(ans8);\n",
    "element.text(ans8)"
   ]
  },
  {
   "cell_type": "code",
   "execution_count": 40,
   "metadata": {},
   "outputs": [
    {
     "data": {
      "application/javascript": "var q9 = \"Q9. Write a program to reverse a stack.\"\nclass Stack{\n    constructor(){\n        this.items = [];\n        this.size = 0;\n        this.push = function(val){\n            this.items.push(val)\n            this.size += 1\n        }\n        this.pop = function(){\n            if(this.size == 0){\n                return \"Stack is empty\"\n            }\n            this.size -= 1;\n            return this.items.pop()\n        }\n        this.peek = function(){\n            if(this.size == 0){\n                return \"Stack is empty\"\n            }\n            return this.items[this.size - 1]\n        }\n    }\n}\n\nlet exp9 = [1,2,4,5,3,7,8]\nlet arrNew9 = new Stack()\nlet arrNew90 = new Stack()\n\nfunction reverseStack(elem1, elem2){\n    for(let x = elem1.length - 1; x >= 0; x--){\n        elem2.push(elem1[x])\n    }\n    if(elem1 instanceof Array){\n        return `Original Stack ${elem1.join(' ')}, Reverse Stack ${elem2.items.join(' ')}`;\n    }\n    else {\n        return `Original Stack ${elem1}, Reverse Stack ${elem2.items.join(' ')}`;\n    }\n}\n\nlet ans9 = reverseStack(exp9, arrNew9)\nlet ans90 = reverseStack(exp8, arrNew90)\nconsole.log(ans9);\nconsole.log(ans90);\nelement.text(ans9)\n",
      "text/plain": [
       "<IPython.core.display.Javascript object>"
      ]
     },
     "metadata": {},
     "output_type": "display_data"
    }
   ],
   "source": [
    "%%js\n",
    "var q9 = \"Q9. Write a program to reverse a stack.\"\n",
    "class Stack{\n",
    "    constructor(){\n",
    "        this.items = [];\n",
    "        this.size = 0;\n",
    "        this.push = function(val){\n",
    "            this.items.push(val)\n",
    "            this.size += 1\n",
    "        }\n",
    "        this.pop = function(){\n",
    "            if(this.size == 0){\n",
    "                return \"Stack is empty\"\n",
    "            }\n",
    "            this.size -= 1;\n",
    "            return this.items.pop()\n",
    "        }\n",
    "        this.peek = function(){\n",
    "            if(this.size == 0){\n",
    "                return \"Stack is empty\"\n",
    "            }\n",
    "            return this.items[this.size - 1]\n",
    "        }\n",
    "    }\n",
    "}\n",
    "\n",
    "let exp9 = [1,2,4,5,3,7,8]\n",
    "let arrNew9 = new Stack()\n",
    "let arrNew90 = new Stack()\n",
    "\n",
    "function reverseStack(elem1, elem2){\n",
    "    for(let x = elem1.length - 1; x >= 0; x--){\n",
    "        elem2.push(elem1[x])\n",
    "    }\n",
    "    if(elem1 instanceof Array){\n",
    "        return `Original Stack ${elem1.join(' ')}, Reverse Stack ${elem2.items.join(' ')}`;\n",
    "    }\n",
    "    else {\n",
    "        return `Original Stack ${elem1}, Reverse Stack ${elem2.items.join(' ')}`;\n",
    "    }\n",
    "}\n",
    "\n",
    "let ans9 = reverseStack(exp9, arrNew9)\n",
    "let ans90 = reverseStack(exp8, arrNew90)\n",
    "console.log(ans9);\n",
    "console.log(ans90);\n",
    "element.text(ans9)"
   ]
  },
  {
   "cell_type": "code",
   "execution_count": 2,
   "metadata": {},
   "outputs": [
    {
     "data": {
      "application/javascript": "var q10 = \"Q10. Write a program to find the smallest number using a stack.\"\nclass SmallStack{\n    constructor(){\n        this.arr = [];\n        this.push = function(val){\n            this.arr.push(val)\n        }\n        this.small = function(){\n            let minElem = this.arr[0]\n            for(let x = 0; x < this.arr.length; x++){\n                if(this.arr[x]<minElem){\n                    minElem = this.arr[x]\n                }\n            }\n            return minElem;\n        }\n        this.pop = function(){\n            if(this.arr.length == 0){\n                return \"Stack is empty\"\n            }\n            return this.items.pop()\n        }\n    }\n}\n\nlet arrNew10 = new SmallStack();\nconsole.log(arrNew10);\narrNew10.push(10)\narrNew10.push(2)\narrNew10.push(30)\narrNew10.push(60)\narrNew10.push(50)\narrNew10.push(20)\narrNew10.push(5)\nconsole.log(arrNew10.arr);\nconsole.log(arrNew10.small());\nelement.text(arrNew10.small())\n",
      "text/plain": [
       "<IPython.core.display.Javascript object>"
      ]
     },
     "metadata": {},
     "output_type": "display_data"
    }
   ],
   "source": [
    "%%javascript\n",
    "var q10 = \"Q10. Write a program to find the smallest number using a stack.\"\n",
    "class SmallStack{\n",
    "    constructor(){\n",
    "        this.arr = [];\n",
    "        this.push = function(val){\n",
    "            this.arr.push(val)\n",
    "        }\n",
    "        this.small = function(){\n",
    "            let minElem = this.arr[0]\n",
    "            for(let x = 0; x < this.arr.length; x++){\n",
    "                if(this.arr[x]<minElem){\n",
    "                    minElem = this.arr[x]\n",
    "                }\n",
    "            }\n",
    "            return minElem;\n",
    "        }\n",
    "        this.pop = function(){\n",
    "            if(this.arr.length == 0){\n",
    "                return \"Stack is empty\"\n",
    "            }\n",
    "            return this.items.pop()\n",
    "        }\n",
    "    }\n",
    "}\n",
    "\n",
    "let arrNew10 = new SmallStack();\n",
    "console.log(arrNew10);\n",
    "arrNew10.push(10)\n",
    "arrNew10.push(2)\n",
    "arrNew10.push(30)\n",
    "arrNew10.push(60)\n",
    "arrNew10.push(50)\n",
    "arrNew10.push(20)\n",
    "arrNew10.push(5)\n",
    "console.log(arrNew10.arr);\n",
    "console.log(arrNew10.small());\n",
    "element.text(arrNew10.small())"
   ]
  }
 ],
 "metadata": {
  "kernelspec": {
   "display_name": "Python 3.10.7 64-bit",
   "language": "python",
   "name": "python3"
  },
  "language_info": {
   "codemirror_mode": {
    "name": "ipython",
    "version": 3
   },
   "file_extension": ".py",
   "mimetype": "text/x-python",
   "name": "python",
   "nbconvert_exporter": "python",
   "pygments_lexer": "ipython3",
   "version": "3.10.8"
  },
  "orig_nbformat": 4,
  "vscode": {
   "interpreter": {
    "hash": "a960d7892b64a87d3f50256fb0ad9e2192761d0bfa68db040dddd60460c0adc2"
   }
  }
 },
 "nbformat": 4,
 "nbformat_minor": 2
}
